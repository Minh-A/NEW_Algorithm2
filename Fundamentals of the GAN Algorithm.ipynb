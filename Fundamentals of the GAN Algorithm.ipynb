{
  "nbformat": 4,
  "nbformat_minor": 0,
  "metadata": {
    "colab": {
      "name": "GAN 알고리즘 기초.ipynb",
      "provenance": [],
      "collapsed_sections": [],
      "toc_visible": true,
      "include_colab_link": true
    },
    "kernelspec": {
      "display_name": "Python 3",
      "name": "python3"
    },
    "language_info": {
      "name": "python"
    }
  },
  "cells": [
    {
      "cell_type": "markdown",
      "metadata": {
        "id": "view-in-github",
        "colab_type": "text"
      },
      "source": [
        "<a href=\"https://colab.research.google.com/github/Minh-A/NEW_Algorithm2/blob/main/Fundamentals%20of%20the%20GAN%20Algorithm.ipynb\" target=\"_parent\"><img src=\"https://colab.research.google.com/assets/colab-badge.svg\" alt=\"Open In Colab\"/></a>"
      ]
    },
    {
      "cell_type": "markdown",
      "metadata": {
        "id": "9AAUguM2LHbM"
      },
      "source": [
        "# 바이낸스 비트코인"
      ]
    },
    {
      "cell_type": "markdown",
      "metadata": {
        "id": "27Z2D0nZcI19"
      },
      "source": [
        "## 데이터 전처리"
      ]
    },
    {
      "cell_type": "code",
      "metadata": {
        "colab": {
          "base_uri": "https://localhost:8080/"
        },
        "id": "0zar9kFn1qnq",
        "outputId": "25026c67-633d-4d54-9e76-0b02eee6563c"
      },
      "source": [
        "from google.colab import drive\n",
        "drive.mount('/content/drive')"
      ],
      "execution_count": 1,
      "outputs": [
        {
          "output_type": "stream",
          "name": "stdout",
          "text": [
            "Mounted at /content/drive\n"
          ]
        }
      ]
    },
    {
      "cell_type": "code",
      "metadata": {
        "id": "8sik1fxdxqGU"
      },
      "source": [
        "# 라이브러리 임포트\n",
        "import pandas as pd\n",
        "import numpy as np\n",
        "import warnings\n",
        "warnings.filterwarnings(action='ignore')\n",
        "\n",
        "import matplotlib.pyplot as plt\n",
        "\n",
        "# 성능지표\n",
        "from sklearn.metrics import confusion_matrix, classification_report\n",
        "import sklearn.metrics as mt\n",
        "\n",
        "from sklearn.metrics import accuracy_score\n",
        "from sklearn.metrics import recall_score \n",
        "from sklearn.metrics import precision_score\n",
        "from sklearn.metrics import f1_score"
      ],
      "execution_count": 2,
      "outputs": []
    },
    {
      "cell_type": "code",
      "metadata": {
        "id": "YAB-r_IOcIHe"
      },
      "source": [
        "data = pd.read_csv('/content/drive/MyDrive/Colab Notebooks/비트코인/data/바이낸스_btc_15m.csv', encoding='cp949')"
      ],
      "execution_count": 3,
      "outputs": []
    },
    {
      "cell_type": "code",
      "metadata": {
        "colab": {
          "base_uri": "https://localhost:8080/"
        },
        "id": "0xcOwz6bcIET",
        "outputId": "fc591114-876d-4eb9-a4ca-f72363a74f06"
      },
      "source": [
        "data.info()"
      ],
      "execution_count": 4,
      "outputs": [
        {
          "output_type": "stream",
          "name": "stdout",
          "text": [
            "<class 'pandas.core.frame.DataFrame'>\n",
            "RangeIndex: 31931 entries, 0 to 31930\n",
            "Data columns (total 11 columns):\n",
            " #   Column    Non-Null Count  Dtype  \n",
            "---  ------    --------------  -----  \n",
            " 0   datetime  31931 non-null  object \n",
            " 1   open      31931 non-null  float64\n",
            " 2   high      31931 non-null  float64\n",
            " 3   low       31931 non-null  float64\n",
            " 4   close     31931 non-null  float64\n",
            " 5   volume    31931 non-null  float64\n",
            " 6   opup      31931 non-null  float64\n",
            " 7   opdown    31931 non-null  float64\n",
            " 8   clup      31931 non-null  float64\n",
            " 9   cldown    31931 non-null  float64\n",
            " 10  updown    31931 non-null  float64\n",
            "dtypes: float64(10), object(1)\n",
            "memory usage: 2.7+ MB\n"
          ]
        }
      ]
    },
    {
      "cell_type": "code",
      "metadata": {
        "colab": {
          "base_uri": "https://localhost:8080/",
          "height": 206
        },
        "id": "vKawHPTscIBs",
        "outputId": "127c1a52-372e-4d74-8abc-31dc16cad1ae"
      },
      "source": [
        "data.head()"
      ],
      "execution_count": 5,
      "outputs": [
        {
          "output_type": "execute_result",
          "data": {
            "text/html": [
              "<div>\n",
              "<style scoped>\n",
              "    .dataframe tbody tr th:only-of-type {\n",
              "        vertical-align: middle;\n",
              "    }\n",
              "\n",
              "    .dataframe tbody tr th {\n",
              "        vertical-align: top;\n",
              "    }\n",
              "\n",
              "    .dataframe thead th {\n",
              "        text-align: right;\n",
              "    }\n",
              "</style>\n",
              "<table border=\"1\" class=\"dataframe\">\n",
              "  <thead>\n",
              "    <tr style=\"text-align: right;\">\n",
              "      <th></th>\n",
              "      <th>datetime</th>\n",
              "      <th>open</th>\n",
              "      <th>high</th>\n",
              "      <th>low</th>\n",
              "      <th>close</th>\n",
              "      <th>volume</th>\n",
              "      <th>opup</th>\n",
              "      <th>opdown</th>\n",
              "      <th>clup</th>\n",
              "      <th>cldown</th>\n",
              "      <th>updown</th>\n",
              "    </tr>\n",
              "  </thead>\n",
              "  <tbody>\n",
              "    <tr>\n",
              "      <th>0</th>\n",
              "      <td>2021-01-01 0:00</td>\n",
              "      <td>28923.63</td>\n",
              "      <td>29017.50</td>\n",
              "      <td>28690.17</td>\n",
              "      <td>28752.80</td>\n",
              "      <td>840.077569</td>\n",
              "      <td>-93.87</td>\n",
              "      <td>233.46</td>\n",
              "      <td>-264.70</td>\n",
              "      <td>62.63</td>\n",
              "      <td>327.33</td>\n",
              "    </tr>\n",
              "    <tr>\n",
              "      <th>1</th>\n",
              "      <td>2021-01-01 0:15</td>\n",
              "      <td>28752.80</td>\n",
              "      <td>28875.55</td>\n",
              "      <td>28720.91</td>\n",
              "      <td>28836.63</td>\n",
              "      <td>480.611179</td>\n",
              "      <td>-122.75</td>\n",
              "      <td>31.89</td>\n",
              "      <td>-38.92</td>\n",
              "      <td>115.72</td>\n",
              "      <td>154.64</td>\n",
              "    </tr>\n",
              "    <tr>\n",
              "      <th>2</th>\n",
              "      <td>2021-01-01 0:30</td>\n",
              "      <td>28836.63</td>\n",
              "      <td>28943.87</td>\n",
              "      <td>28836.62</td>\n",
              "      <td>28930.11</td>\n",
              "      <td>471.134708</td>\n",
              "      <td>-107.24</td>\n",
              "      <td>0.01</td>\n",
              "      <td>-13.76</td>\n",
              "      <td>93.49</td>\n",
              "      <td>107.25</td>\n",
              "    </tr>\n",
              "    <tr>\n",
              "      <th>3</th>\n",
              "      <td>2021-01-01 0:45</td>\n",
              "      <td>28930.11</td>\n",
              "      <td>29031.34</td>\n",
              "      <td>28889.99</td>\n",
              "      <td>28995.13</td>\n",
              "      <td>519.987989</td>\n",
              "      <td>-101.23</td>\n",
              "      <td>40.12</td>\n",
              "      <td>-36.21</td>\n",
              "      <td>105.14</td>\n",
              "      <td>141.35</td>\n",
              "    </tr>\n",
              "    <tr>\n",
              "      <th>4</th>\n",
              "      <td>2021-01-01 1:00</td>\n",
              "      <td>28995.13</td>\n",
              "      <td>29385.00</td>\n",
              "      <td>28960.35</td>\n",
              "      <td>29382.59</td>\n",
              "      <td>1735.839005</td>\n",
              "      <td>-389.87</td>\n",
              "      <td>34.78</td>\n",
              "      <td>-2.41</td>\n",
              "      <td>422.24</td>\n",
              "      <td>424.65</td>\n",
              "    </tr>\n",
              "  </tbody>\n",
              "</table>\n",
              "</div>"
            ],
            "text/plain": [
              "          datetime      open      high  ...    clup  cldown  updown\n",
              "0  2021-01-01 0:00  28923.63  29017.50  ... -264.70   62.63  327.33\n",
              "1  2021-01-01 0:15  28752.80  28875.55  ...  -38.92  115.72  154.64\n",
              "2  2021-01-01 0:30  28836.63  28943.87  ...  -13.76   93.49  107.25\n",
              "3  2021-01-01 0:45  28930.11  29031.34  ...  -36.21  105.14  141.35\n",
              "4  2021-01-01 1:00  28995.13  29385.00  ...   -2.41  422.24  424.65\n",
              "\n",
              "[5 rows x 11 columns]"
            ]
          },
          "metadata": {},
          "execution_count": 5
        }
      ]
    },
    {
      "cell_type": "markdown",
      "metadata": {
        "id": "VKBFba4dyHki"
      },
      "source": [
        "선형 보간법"
      ]
    },
    {
      "cell_type": "code",
      "metadata": {
        "id": "ppBXvpywcH80"
      },
      "source": [
        "# 선형 보간법으로 결측치를 없앰\n",
        "# data1 = data.interpolate(method=\"linear\")"
      ],
      "execution_count": null,
      "outputs": []
    },
    {
      "cell_type": "code",
      "metadata": {
        "id": "5YrTp7OngIDR"
      },
      "source": [
        "# data1.head(3)"
      ],
      "execution_count": null,
      "outputs": []
    },
    {
      "cell_type": "markdown",
      "metadata": {
        "id": "0ZVpMq_UyKaL"
      },
      "source": [
        "데이터 셋 분류"
      ]
    },
    {
      "cell_type": "code",
      "metadata": {
        "id": "SRqAKAyxe0VK"
      },
      "source": [
        "# 훈련데이터 셋과 테스트데이터 셋을 분류\n",
        "# train = data.iloc[:-7,:]\n",
        "# test = data.iloc[-7:,:]"
      ],
      "execution_count": null,
      "outputs": []
    },
    {
      "cell_type": "code",
      "metadata": {
        "id": "8sgZwTTYhAq9"
      },
      "source": [
        "# 각 데이터 셋에서 Feature와 label을 분류\n",
        "# train_feature = train.iloc[:,1:]\n",
        "# train_label = train.iloc[:,1:4]\n",
        "\n",
        "# test_feature = test.iloc[:,1:]\n",
        "# test_label = test.iloc[:,1:4]"
      ],
      "execution_count": null,
      "outputs": []
    },
    {
      "cell_type": "code",
      "metadata": {
        "id": "ZPFygkj12py8"
      },
      "source": [
        "# train_feature.head(3), test_label.head(3)"
      ],
      "execution_count": null,
      "outputs": []
    },
    {
      "cell_type": "markdown",
      "metadata": {
        "id": "l10SZgkfyWlO"
      },
      "source": [
        "원핫인코딩 처리"
      ]
    },
    {
      "cell_type": "code",
      "metadata": {
        "id": "RZ_CrbyEhAmc"
      },
      "source": [
        "# label은 원핫인코딩 처리\n",
        "# train_label1 = pd.get_dummies(train_label)\n",
        "# test_label1 = pd.get_dummies(test_label)"
      ],
      "execution_count": null,
      "outputs": []
    },
    {
      "cell_type": "code",
      "metadata": {
        "id": "J62hQqSn7Nmu"
      },
      "source": [
        "# test_label1.head(5)"
      ],
      "execution_count": null,
      "outputs": []
    },
    {
      "cell_type": "markdown",
      "metadata": {
        "id": "ps6PDDa9yZAe"
      },
      "source": [
        "데이터 표준화를 사용"
      ]
    },
    {
      "cell_type": "code",
      "metadata": {
        "id": "r1PlOx-3-iWs"
      },
      "source": [
        "# # 데이터 표준화 (StandardScaler)\n",
        "# from sklearn.preprocessing import StandardScaler\n",
        "\n",
        "# # 훈련 데이터셋 feature\n",
        "# scaler = StandardScaler()\n",
        "\n",
        "# train_feature = scaler.fit_transform(train_feature) \n",
        "# train_feature1 = pd.DataFrame(train_feature)\n",
        "\n",
        "# # 테스트 데이터셋 feature\n",
        "# scaler = StandardScaler()\n",
        "\n",
        "# test_feature = scaler.fit_transform(test_feature)\n",
        "# test_feature1 = pd.DataFrame(test_feature)\n",
        "\n",
        "# train_feature1.head(3), test_feature1.head(3)"
      ],
      "execution_count": null,
      "outputs": []
    },
    {
      "cell_type": "code",
      "metadata": {
        "id": "u1hD0lLpj4rA"
      },
      "source": [
        ""
      ],
      "execution_count": null,
      "outputs": []
    },
    {
      "cell_type": "markdown",
      "metadata": {
        "id": "B5Ne589zcFqr"
      },
      "source": [
        "여기서부터 시작"
      ]
    },
    {
      "cell_type": "code",
      "metadata": {
        "id": "-oxz11kajceU"
      },
      "source": [
        "# 데이터 표준화 (StandardScaler)\n",
        "from sklearn.preprocessing import MinMaxScaler\n",
        "\n",
        "# 훈련 데이터셋 feature\n",
        "scaler = MinMaxScaler()\n",
        "\n",
        "data1 = scaler.fit_transform(np.array(data)[:,1:]) "
      ],
      "execution_count": 6,
      "outputs": []
    },
    {
      "cell_type": "code",
      "metadata": {
        "colab": {
          "base_uri": "https://localhost:8080/"
        },
        "id": "KOocOdIijYJ5",
        "outputId": "990c937b-0e9d-4dd0-cd02-a8b7ebbfd6d7"
      },
      "source": [
        "data1.shape, \" \",data1[:2]"
      ],
      "execution_count": 7,
      "outputs": [
        {
          "output_type": "execute_result",
          "data": {
            "text/plain": [
              "((31931, 10),\n",
              " ' ',\n",
              " array([[0.00427437, 0.00353774, 0.01388278, 0.        , 0.04983096,\n",
              "         0.97655085, 0.04267789, 0.92870495, 0.0160325 , 0.05390304],\n",
              "        [0.        , 0.        , 0.01464461, 0.00209753, 0.02850846,\n",
              "         0.96933649, 0.00582968, 0.98951718, 0.02962288, 0.02546533]]))"
            ]
          },
          "metadata": {},
          "execution_count": 7
        }
      ]
    },
    {
      "cell_type": "code",
      "metadata": {
        "colab": {
          "base_uri": "https://localhost:8080/"
        },
        "id": "iCPockd2kUJ2",
        "outputId": "729a0d9c-7713-475c-cc2c-3ce9822f4f0b"
      },
      "source": [
        "data1.min(), data1.max() "
      ],
      "execution_count": 8,
      "outputs": [
        {
          "output_type": "execute_result",
          "data": {
            "text/plain": [
              "(0.0, 1.0)"
            ]
          },
          "metadata": {},
          "execution_count": 8
        }
      ]
    },
    {
      "cell_type": "markdown",
      "metadata": {
        "id": "s_YSDl722rX7"
      },
      "source": [
        "슬라이딩윈도우"
      ]
    },
    {
      "cell_type": "code",
      "metadata": {
        "id": "lYPnQIL72qxD"
      },
      "source": [
        "# (배치 사이즈, 날짜, 속성)으로 데이터 셋을 생성\n",
        "# 한칸씩 미는 식으로 구성됨\n",
        "\n",
        "# def make_dataset(data, window_size):\n",
        "#     feature_list = []\n",
        "#     # label_list = []\n",
        "#     for i in range(len(data) - window_size):\n",
        "#         feature_list.append(np.array(data.iloc[i:i+window_size]))\n",
        "#         # label_list.append(np.array(label.iloc[i+window_size]))\n",
        "#     return np.array(feature_list)  # , np.array(label_list)"
      ],
      "execution_count": 9,
      "outputs": []
    },
    {
      "cell_type": "code",
      "metadata": {
        "id": "sJvnFYVKU0Vp"
      },
      "source": [
        "# 윈도우 사이즈만큼 단일 구성함\n",
        "\n",
        "def make_dataset(data, window_size):\n",
        "    feature_list = []\n",
        "    f_num = len(data) % window_size\n",
        "    print(f_num)\n",
        "\n",
        "    feature_list.append(data.iloc[ f_num : f_num + window_size])\n",
        "\n",
        "    for i in range(1, len(data) // window_size ):\n",
        "        i *= window_size\n",
        "        i += f_num\n",
        "        feature_list.append(data.iloc[i:i+window_size])\n",
        "    return np.array(feature_list)"
      ],
      "execution_count": 10,
      "outputs": []
    },
    {
      "cell_type": "code",
      "metadata": {
        "colab": {
          "base_uri": "https://localhost:8080/"
        },
        "id": "vwxvv2Qr2qxN",
        "outputId": "dccc6b43-e223-4548-b9ad-2c6a4a98d6ca"
      },
      "source": [
        "# 데이터 셋을 슬라이딩 윈도우 형식으로 만들기\n",
        "# 15분씩 1시간은 4번 하루는 96\n",
        "\n",
        "# 훈련데이터 셋\n",
        "train_feature = make_dataset(pd.DataFrame(data1), 8)\n",
        "\n",
        "x_train = train_feature\n",
        "\n",
        "x_train.shape\n"
      ],
      "execution_count": 12,
      "outputs": [
        {
          "output_type": "stream",
          "name": "stdout",
          "text": [
            "3\n"
          ]
        },
        {
          "output_type": "execute_result",
          "data": {
            "text/plain": [
              "(3991, 8, 10)"
            ]
          },
          "metadata": {},
          "execution_count": 12
        }
      ]
    },
    {
      "cell_type": "code",
      "metadata": {
        "colab": {
          "base_uri": "https://localhost:8080/",
          "height": 300
        },
        "id": "O7gvA-wS3WSw",
        "outputId": "d427fe11-b571-4e05-934f-d67e18a4b5a4"
      },
      "source": [
        "x_test = x_train[3989]\n",
        "x_test.shape\n",
        "pd.DataFrame(x_test)"
      ],
      "execution_count": 13,
      "outputs": [
        {
          "output_type": "execute_result",
          "data": {
            "text/html": [
              "<div>\n",
              "<style scoped>\n",
              "    .dataframe tbody tr th:only-of-type {\n",
              "        vertical-align: middle;\n",
              "    }\n",
              "\n",
              "    .dataframe tbody tr th {\n",
              "        vertical-align: top;\n",
              "    }\n",
              "\n",
              "    .dataframe thead th {\n",
              "        text-align: right;\n",
              "    }\n",
              "</style>\n",
              "<table border=\"1\" class=\"dataframe\">\n",
              "  <thead>\n",
              "    <tr style=\"text-align: right;\">\n",
              "      <th></th>\n",
              "      <th>0</th>\n",
              "      <th>1</th>\n",
              "      <th>2</th>\n",
              "      <th>3</th>\n",
              "      <th>4</th>\n",
              "      <th>5</th>\n",
              "      <th>6</th>\n",
              "      <th>7</th>\n",
              "      <th>8</th>\n",
              "      <th>9</th>\n",
              "    </tr>\n",
              "  </thead>\n",
              "  <tbody>\n",
              "    <tr>\n",
              "      <th>0</th>\n",
              "      <td>0.715733</td>\n",
              "      <td>0.711251</td>\n",
              "      <td>0.721282</td>\n",
              "      <td>0.714784</td>\n",
              "      <td>0.012458</td>\n",
              "      <td>0.985948</td>\n",
              "      <td>0.022692</td>\n",
              "      <td>0.974636</td>\n",
              "      <td>0.022069</td>\n",
              "      <td>0.029704</td>\n",
              "    </tr>\n",
              "    <tr>\n",
              "      <th>1</th>\n",
              "      <td>0.714784</td>\n",
              "      <td>0.709897</td>\n",
              "      <td>0.719476</td>\n",
              "      <td>0.711141</td>\n",
              "      <td>0.017474</td>\n",
              "      <td>0.990045</td>\n",
              "      <td>0.029079</td>\n",
              "      <td>0.950050</td>\n",
              "      <td>0.003448</td>\n",
              "      <td>0.032757</td>\n",
              "    </tr>\n",
              "    <tr>\n",
              "      <th>2</th>\n",
              "      <td>0.711141</td>\n",
              "      <td>0.706376</td>\n",
              "      <td>0.709790</td>\n",
              "      <td>0.703099</td>\n",
              "      <td>0.046451</td>\n",
              "      <td>0.988966</td>\n",
              "      <td>0.073914</td>\n",
              "      <td>0.901531</td>\n",
              "      <td>0.021224</td>\n",
              "      <td>0.073857</td>\n",
              "    </tr>\n",
              "    <tr>\n",
              "      <th>3</th>\n",
              "      <td>0.703099</td>\n",
              "      <td>0.703809</td>\n",
              "      <td>0.711689</td>\n",
              "      <td>0.709104</td>\n",
              "      <td>0.017185</td>\n",
              "      <td>0.934406</td>\n",
              "      <td>0.001146</td>\n",
              "      <td>0.993921</td>\n",
              "      <td>0.063045</td>\n",
              "      <td>0.044273</td>\n",
              "    </tr>\n",
              "    <tr>\n",
              "      <th>4</th>\n",
              "      <td>0.709104</td>\n",
              "      <td>0.707161</td>\n",
              "      <td>0.715092</td>\n",
              "      <td>0.712824</td>\n",
              "      <td>0.016361</td>\n",
              "      <td>0.960758</td>\n",
              "      <td>0.019915</td>\n",
              "      <td>0.997735</td>\n",
              "      <td>0.065948</td>\n",
              "      <td>0.043808</td>\n",
              "    </tr>\n",
              "    <tr>\n",
              "      <th>5</th>\n",
              "      <td>0.712824</td>\n",
              "      <td>0.707842</td>\n",
              "      <td>0.715466</td>\n",
              "      <td>0.710659</td>\n",
              "      <td>0.017151</td>\n",
              "      <td>0.991069</td>\n",
              "      <td>0.044334</td>\n",
              "      <td>0.967065</td>\n",
              "      <td>0.039931</td>\n",
              "      <td>0.045824</td>\n",
              "    </tr>\n",
              "    <tr>\n",
              "      <th>6</th>\n",
              "      <td>0.710659</td>\n",
              "      <td>0.706191</td>\n",
              "      <td>0.716729</td>\n",
              "      <td>0.709570</td>\n",
              "      <td>0.010628</td>\n",
              "      <td>0.986003</td>\n",
              "      <td>0.019206</td>\n",
              "      <td>0.973192</td>\n",
              "      <td>0.015759</td>\n",
              "      <td>0.026527</td>\n",
              "    </tr>\n",
              "    <tr>\n",
              "      <th>7</th>\n",
              "      <td>0.709571</td>\n",
              "      <td>0.706710</td>\n",
              "      <td>0.717244</td>\n",
              "      <td>0.711908</td>\n",
              "      <td>0.010936</td>\n",
              "      <td>0.969944</td>\n",
              "      <td>0.007449</td>\n",
              "      <td>0.992760</td>\n",
              "      <td>0.034351</td>\n",
              "      <td>0.026524</td>\n",
              "    </tr>\n",
              "  </tbody>\n",
              "</table>\n",
              "</div>"
            ],
            "text/plain": [
              "          0         1         2  ...         7         8         9\n",
              "0  0.715733  0.711251  0.721282  ...  0.974636  0.022069  0.029704\n",
              "1  0.714784  0.709897  0.719476  ...  0.950050  0.003448  0.032757\n",
              "2  0.711141  0.706376  0.709790  ...  0.901531  0.021224  0.073857\n",
              "3  0.703099  0.703809  0.711689  ...  0.993921  0.063045  0.044273\n",
              "4  0.709104  0.707161  0.715092  ...  0.997735  0.065948  0.043808\n",
              "5  0.712824  0.707842  0.715466  ...  0.967065  0.039931  0.045824\n",
              "6  0.710659  0.706191  0.716729  ...  0.973192  0.015759  0.026527\n",
              "7  0.709571  0.706710  0.717244  ...  0.992760  0.034351  0.026524\n",
              "\n",
              "[8 rows x 10 columns]"
            ]
          },
          "metadata": {},
          "execution_count": 13
        }
      ]
    },
    {
      "cell_type": "markdown",
      "metadata": {
        "id": "ns21Zv-tXNkD"
      },
      "source": [
        "## GAN 알고리즘\n",
        "\n",
        "* https://teddylee777.github.io/tensorflow/vanilla-gan"
      ]
    },
    {
      "cell_type": "code",
      "metadata": {
        "id": "KgViq27IXM7n"
      },
      "source": [
        "# from tensorflow.keras.datasets import mnist\n",
        "# (x_train, y_train), (x_test, y_test) = mnist.load_data()"
      ],
      "execution_count": null,
      "outputs": []
    },
    {
      "cell_type": "code",
      "metadata": {
        "id": "yHbUK2cEkxqh"
      },
      "source": [
        "# x_train.min()"
      ],
      "execution_count": null,
      "outputs": []
    },
    {
      "cell_type": "code",
      "metadata": {
        "colab": {
          "base_uri": "https://localhost:8080/"
        },
        "id": "yrflZaWxXQo2",
        "outputId": "a5c216b3-655e-41c9-8919-fffa450f85b2"
      },
      "source": [
        "# x_train = x_train / 127.5 - 1\n",
        "# x_test = x_test / 127.5 - 1\n",
        "\n",
        "# print(x_train.min(), x_train.max())\n",
        "\n",
        "# x_train = x_train.reshape(-1, 784)\n",
        "# x_train.shape"
      ],
      "execution_count": null,
      "outputs": [
        {
          "output_type": "stream",
          "name": "stdout",
          "text": [
            "-1.0 1.0\n"
          ]
        },
        {
          "output_type": "execute_result",
          "data": {
            "text/plain": [
              "(60000, 784)"
            ]
          },
          "metadata": {},
          "execution_count": 98
        }
      ]
    },
    {
      "cell_type": "code",
      "metadata": {
        "id": "tso1M06W33JT"
      },
      "source": [
        ""
      ],
      "execution_count": null,
      "outputs": []
    },
    {
      "cell_type": "code",
      "metadata": {
        "colab": {
          "base_uri": "https://localhost:8080/"
        },
        "id": "e3bRkGpqrWmW",
        "outputId": "aa67307d-b2cb-4cd8-db9f-6a562873caf7"
      },
      "source": [
        "# x_train = data1\n",
        "# x_train.shape"
      ],
      "execution_count": null,
      "outputs": [
        {
          "output_type": "execute_result",
          "data": {
            "text/plain": [
              "(31931, 10)"
            ]
          },
          "metadata": {},
          "execution_count": 11
        }
      ]
    },
    {
      "cell_type": "code",
      "metadata": {
        "id": "__yN8C--XQrl"
      },
      "source": [
        "from tensorflow.keras.layers import Dense, LeakyReLU, Dropout, Input\n",
        "from tensorflow.keras.models import Sequential, Model\n",
        "from tensorflow.keras.optimizers import Adam\n",
        "from tensorflow.keras.initializers import RandomNormal\n",
        "import numpy as np\n",
        "import matplotlib.pyplot as plt"
      ],
      "execution_count": 14,
      "outputs": []
    },
    {
      "cell_type": "code",
      "metadata": {
        "id": "zbhckDv3XQt_"
      },
      "source": [
        "# gan에 입력되는 noise에 대한 dimension\n",
        "NOISE_DIM = 10\n",
        "\n",
        "# adam optimizer 정의, learning_rate = 0.0002, beta_1로 줍니다.\n",
        "# Vanilla Gan과 DCGAN에서 이렇게 셋팅을 해주는데\n",
        "# 이렇게 해줘야 훨씬 학습을 잘합니다.\n",
        "adam = Adam(lr=0.0002, beta_1=0.5)"
      ],
      "execution_count": 15,
      "outputs": []
    },
    {
      "cell_type": "code",
      "metadata": {
        "id": "PDryILrbXQwY"
      },
      "source": [
        "generator = Sequential([\n",
        "    Dense(64, input_dim=NOISE_DIM), \n",
        "    LeakyReLU(0.2), \n",
        "    Dense(128), \n",
        "    LeakyReLU(0.2), \n",
        "    Dense(256), \n",
        "    LeakyReLU(0.2), \n",
        "    Dense(10, activation='tanh'),\n",
        "])"
      ],
      "execution_count": 16,
      "outputs": []
    },
    {
      "cell_type": "code",
      "metadata": {
        "colab": {
          "base_uri": "https://localhost:8080/"
        },
        "id": "zJxL20oEXQy9",
        "outputId": "dc596015-deb2-4f45-960f-30bf79227367"
      },
      "source": [
        "generator.summary()"
      ],
      "execution_count": 17,
      "outputs": [
        {
          "output_type": "stream",
          "name": "stdout",
          "text": [
            "Model: \"sequential\"\n",
            "_________________________________________________________________\n",
            " Layer (type)                Output Shape              Param #   \n",
            "=================================================================\n",
            " dense (Dense)               (None, 64)                704       \n",
            "                                                                 \n",
            " leaky_re_lu (LeakyReLU)     (None, 64)                0         \n",
            "                                                                 \n",
            " dense_1 (Dense)             (None, 128)               8320      \n",
            "                                                                 \n",
            " leaky_re_lu_1 (LeakyReLU)   (None, 128)               0         \n",
            "                                                                 \n",
            " dense_2 (Dense)             (None, 256)               33024     \n",
            "                                                                 \n",
            " leaky_re_lu_2 (LeakyReLU)   (None, 256)               0         \n",
            "                                                                 \n",
            " dense_3 (Dense)             (None, 10)                2570      \n",
            "                                                                 \n",
            "=================================================================\n",
            "Total params: 44,618\n",
            "Trainable params: 44,618\n",
            "Non-trainable params: 0\n",
            "_________________________________________________________________\n"
          ]
        }
      ]
    },
    {
      "cell_type": "code",
      "metadata": {
        "id": "BaTyr0Y-YE7x"
      },
      "source": [
        "discriminator = Sequential([\n",
        "    Dense(256, input_shape=(10,), kernel_initializer=RandomNormal(stddev=0.02)),\n",
        "    LeakyReLU(0.2), \n",
        "    Dropout(0.1), \n",
        "    Dense(128),\n",
        "    LeakyReLU(0.2), \n",
        "    Dropout(0.1), \n",
        "    Dense(64),\n",
        "    LeakyReLU(0.2), \n",
        "    Dropout(0.1), \n",
        "    Dense(1, activation='sigmoid')\n",
        "])"
      ],
      "execution_count": 18,
      "outputs": []
    },
    {
      "cell_type": "code",
      "metadata": {
        "colab": {
          "base_uri": "https://localhost:8080/"
        },
        "id": "xaojUI22YE9_",
        "outputId": "0ebaf2e1-b886-4758-b981-451e3dda0cc4"
      },
      "source": [
        "discriminator.summary()"
      ],
      "execution_count": 19,
      "outputs": [
        {
          "output_type": "stream",
          "name": "stdout",
          "text": [
            "Model: \"sequential_1\"\n",
            "_________________________________________________________________\n",
            " Layer (type)                Output Shape              Param #   \n",
            "=================================================================\n",
            " dense_4 (Dense)             (None, 256)               2816      \n",
            "                                                                 \n",
            " leaky_re_lu_3 (LeakyReLU)   (None, 256)               0         \n",
            "                                                                 \n",
            " dropout (Dropout)           (None, 256)               0         \n",
            "                                                                 \n",
            " dense_5 (Dense)             (None, 128)               32896     \n",
            "                                                                 \n",
            " leaky_re_lu_4 (LeakyReLU)   (None, 128)               0         \n",
            "                                                                 \n",
            " dropout_1 (Dropout)         (None, 128)               0         \n",
            "                                                                 \n",
            " dense_6 (Dense)             (None, 64)                8256      \n",
            "                                                                 \n",
            " leaky_re_lu_5 (LeakyReLU)   (None, 64)                0         \n",
            "                                                                 \n",
            " dropout_2 (Dropout)         (None, 64)                0         \n",
            "                                                                 \n",
            " dense_7 (Dense)             (None, 1)                 65        \n",
            "                                                                 \n",
            "=================================================================\n",
            "Total params: 44,033\n",
            "Trainable params: 44,033\n",
            "Non-trainable params: 0\n",
            "_________________________________________________________________\n"
          ]
        }
      ]
    },
    {
      "cell_type": "code",
      "metadata": {
        "id": "_3UqQc8DYFAZ"
      },
      "source": [
        "discriminator.compile(loss='binary_crossentropy', optimizer=adam)"
      ],
      "execution_count": 20,
      "outputs": []
    },
    {
      "cell_type": "code",
      "metadata": {
        "id": "OyiQqY_WYJOc"
      },
      "source": [
        "# discriminator는 학습을 하지 않도록 하며, Gan 모델에서는 generator만 학습하도록 합니다.\n",
        "discriminator.trainable = False\n",
        "gan_input = Input(shape=(NOISE_DIM,))\n",
        "x = generator(inputs=gan_input)\n",
        "output = discriminator(x)"
      ],
      "execution_count": 21,
      "outputs": []
    },
    {
      "cell_type": "code",
      "metadata": {
        "colab": {
          "base_uri": "https://localhost:8080/"
        },
        "id": "TDJZ7jQKYJRA",
        "outputId": "10cb8a3d-dd9b-4d26-9f60-9e8af6626e29"
      },
      "source": [
        "gan = Model(gan_input, output)\n",
        "gan.summary()"
      ],
      "execution_count": 22,
      "outputs": [
        {
          "output_type": "stream",
          "name": "stdout",
          "text": [
            "Model: \"model\"\n",
            "_________________________________________________________________\n",
            " Layer (type)                Output Shape              Param #   \n",
            "=================================================================\n",
            " input_1 (InputLayer)        [(None, 10)]              0         \n",
            "                                                                 \n",
            " sequential (Sequential)     (None, 10)                44618     \n",
            "                                                                 \n",
            " sequential_1 (Sequential)   (None, 1)                 44033     \n",
            "                                                                 \n",
            "=================================================================\n",
            "Total params: 88,651\n",
            "Trainable params: 44,618\n",
            "Non-trainable params: 44,033\n",
            "_________________________________________________________________\n"
          ]
        }
      ]
    },
    {
      "cell_type": "code",
      "metadata": {
        "id": "gr59WuW2YJTX"
      },
      "source": [
        "gan.compile(loss='binary_crossentropy', optimizer=adam)"
      ],
      "execution_count": 23,
      "outputs": []
    },
    {
      "cell_type": "code",
      "metadata": {
        "id": "sJh7a2D1YJVx"
      },
      "source": [
        "# def get_batches(data, batch_size):\n",
        "#     batches = []\n",
        "#     for i in range(int(data.shape[0] // batch_size)):\n",
        "#         batch = data[i * batch_size: (i + 1) * batch_size]\n",
        "#         batches.append(batch)\n",
        "#     return np.asarray(batches)"
      ],
      "execution_count": null,
      "outputs": []
    },
    {
      "cell_type": "code",
      "metadata": {
        "colab": {
          "base_uri": "https://localhost:8080/"
        },
        "id": "sgobN1fiZR6-",
        "outputId": "c3001c11-7e76-4c2d-8a46-c05887956d4d"
      },
      "source": [
        "x_train.shape"
      ],
      "execution_count": null,
      "outputs": [
        {
          "output_type": "execute_result",
          "data": {
            "text/plain": [
              "(3991, 8, 10)"
            ]
          },
          "metadata": {},
          "execution_count": 141
        }
      ]
    },
    {
      "cell_type": "code",
      "metadata": {
        "colab": {
          "base_uri": "https://localhost:8080/"
        },
        "id": "xADIIz_64bi_",
        "outputId": "2ea9ea99-9b4f-4d8a-da06-00347f5c0894"
      },
      "source": [
        "x_test.shape"
      ],
      "execution_count": null,
      "outputs": [
        {
          "output_type": "execute_result",
          "data": {
            "text/plain": [
              "(8, 10)"
            ]
          },
          "metadata": {},
          "execution_count": 142
        }
      ]
    },
    {
      "cell_type": "code",
      "metadata": {
        "id": "ck4DeDvXZKzJ"
      },
      "source": [
        "# get_batches(x_train,128).shape"
      ],
      "execution_count": null,
      "outputs": []
    },
    {
      "cell_type": "code",
      "metadata": {
        "id": "-ux5U-JBYJYU"
      },
      "source": [
        "from tabulate import tabulate  # 데이터프레임 이쁘게 인쇄\n",
        "\n",
        "def visualize_training(epoch, d_losses, g_losses):\n",
        "    print('\\n\\n')\n",
        "\n",
        "    # 오차에 대한 시각화\n",
        "    plt.figure(figsize=(8, 4))\n",
        "    plt.plot(d_losses, label='Discriminator Loss')\n",
        "    plt.plot(g_losses, label='Generatror Loss')\n",
        "    plt.xlabel('Epoch')\n",
        "    plt.ylabel('Loss')\n",
        "    plt.legend()\n",
        "    plt.show()\n",
        "\n",
        "    print('epoch: {}, Discriminator Loss: {}, Generator Loss: {}'.format(epoch, np.asarray(d_losses).mean(), np.asarray(g_losses).mean()))\n",
        "    \n",
        "    #샘플 데이터 생성 후 시각화\n",
        "    # noise = np.random.normal(0, 1, size=(10, NOISE_DIM))\n",
        "    noise = x_test\n",
        "    generated_num = generator.predict(noise)  # 생성자가 만든 데이터\n",
        "    # print(\"\\n 생성된 숫자를 표기 \\n\",generated_num)\n",
        "\n",
        "    print(\"\\n 진짜 숫자 \\n\", tabulate(pd.DataFrame(scaler.inverse_transform(x_train[3990]), \n",
        "                                                    columns=['open', 'high', 'low', 'close', 'volume','opup',\t'opdown',\t'clup',\t'cldown',\t'updown']), \n",
        "                                                headers='keys', tablefmt='psql'))\n",
        "\n",
        "    print(\"\\n 생성된 숫자의 변환 \\n\", tabulate(pd.DataFrame(scaler.inverse_transform(generated_num), \n",
        "                                                    columns=['open', 'high', 'low', 'close', 'volume','opup',\t'opdown',\t'clup',\t'cldown',\t'updown']), \n",
        "                                                headers='keys', tablefmt='psql'))\n"
      ],
      "execution_count": 24,
      "outputs": []
    },
    {
      "cell_type": "code",
      "metadata": {
        "id": "lbRvfI5loLGg"
      },
      "source": [
        "# def visualize_training(epoch, d_losses, g_losses):\n",
        "#     # 오차에 대한 시각화\n",
        "#     plt.figure(figsize=(8, 4))\n",
        "#     plt.plot(d_losses, label='Discriminator Loss')\n",
        "#     plt.plot(g_losses, label='Generatror Loss')\n",
        "#     plt.xlabel('Epoch')\n",
        "#     plt.ylabel('Loss')\n",
        "#     plt.legend()\n",
        "#     plt.show()\n",
        "\n",
        "#     print('epoch: {}, Discriminator Loss: {}, Generator Loss: {}'.format(epoch, np.asarray(d_losses).mean(), np.asarray(g_losses).mean()))\n",
        "    \n",
        "#     #샘플 데이터 생성 후 시각화\n",
        "#     noise = np.random.normal(0, 1, size=(24, NOISE_DIM))\n",
        "#     generated_images = generator.predict(noise)\n",
        "#     generated_images = generated_images.reshape(-1, 28, 28)\n",
        "    \n",
        "#     plt.figure(figsize=(8, 4))\n",
        "#     for i in range(generated_images.shape[0]):\n",
        "#         plt.subplot(4, 6, i+1)\n",
        "#         plt.imshow(generated_images[i], interpolation='nearest', cmap='gray')\n",
        "#         plt.axis('off')\n",
        "#     plt.tight_layout()\n",
        "#     plt.show()"
      ],
      "execution_count": null,
      "outputs": []
    },
    {
      "cell_type": "code",
      "metadata": {
        "id": "2j5ApKNwYFCz"
      },
      "source": [
        "BATCH_SIZE = 8\n",
        "EPOCHS= 5"
      ],
      "execution_count": 29,
      "outputs": []
    },
    {
      "cell_type": "code",
      "metadata": {
        "id": "oplOeYvhtmKM"
      },
      "source": [
        "# get_batches(x_train, BATCH_SIZE).shape"
      ],
      "execution_count": 26,
      "outputs": []
    },
    {
      "cell_type": "code",
      "metadata": {
        "colab": {
          "base_uri": "https://localhost:8080/"
        },
        "id": "4DO8VjKa5U9I",
        "outputId": "b412ebda-2319-4048-f22c-480eb2893be9"
      },
      "source": [
        "x_train.shape"
      ],
      "execution_count": 27,
      "outputs": [
        {
          "output_type": "execute_result",
          "data": {
            "text/plain": [
              "(3991, 8, 10)"
            ]
          },
          "metadata": {},
          "execution_count": 27
        }
      ]
    },
    {
      "cell_type": "code",
      "metadata": {
        "colab": {
          "base_uri": "https://localhost:8080/"
        },
        "id": "vqI0ZXzY5h9v",
        "outputId": "5bad4c60-df47-4bf1-ac8a-7bb61291adb1"
      },
      "source": [
        "x_test.shape"
      ],
      "execution_count": null,
      "outputs": [
        {
          "output_type": "execute_result",
          "data": {
            "text/plain": [
              "(8, 10)"
            ]
          },
          "metadata": {},
          "execution_count": 157
        }
      ]
    },
    {
      "cell_type": "code",
      "metadata": {
        "colab": {
          "base_uri": "https://localhost:8080/"
        },
        "id": "GiCyAdNAf0zK",
        "outputId": "ec641a89-4e4f-4fe1-a9c4-ed51feab56f2"
      },
      "source": [
        "gan.train_on_batch(noise, y_gan)"
      ],
      "execution_count": null,
      "outputs": [
        {
          "output_type": "execute_result",
          "data": {
            "text/plain": [
              "0.7779050469398499"
            ]
          },
          "metadata": {},
          "execution_count": 158
        }
      ]
    },
    {
      "cell_type": "code",
      "metadata": {
        "colab": {
          "base_uri": "https://localhost:8080/"
        },
        "id": "SXjgvtBpgFRZ",
        "outputId": "99c879c8-e325-4c03-d9d1-696429b7c6a7"
      },
      "source": [
        "y_gan"
      ],
      "execution_count": null,
      "outputs": [
        {
          "output_type": "execute_result",
          "data": {
            "text/plain": [
              "array([1., 1., 1., 1., 1., 1., 1., 1.])"
            ]
          },
          "metadata": {},
          "execution_count": 159
        }
      ]
    },
    {
      "cell_type": "code",
      "metadata": {
        "colab": {
          "base_uri": "https://localhost:8080/"
        },
        "id": "Myaq2XC6g7aN",
        "outputId": "6690b139-2f69-4df0-867f-379e8b7e9ade"
      },
      "source": [
        "x_train[-1].reshape(1,8,10).shape"
      ],
      "execution_count": null,
      "outputs": [
        {
          "output_type": "execute_result",
          "data": {
            "text/plain": [
              "(1, 8, 10)"
            ]
          },
          "metadata": {},
          "execution_count": 160
        }
      ]
    },
    {
      "cell_type": "code",
      "metadata": {
        "id": "JsXOJ3h_YFFG"
      },
      "source": [
        "# discriminator와 gan 모델의 loss 측정을 위한 list 입니다.\n",
        "# 여기서 GAN이란 가짜 사진을 받은 판별자가 TRUE, FALSE에 대한 정도를 말하는 모델(sigmoid로)\n",
        "d_losses = []\n",
        "g_losses = [] \n",
        "\n",
        "for epoch in range(1, EPOCHS + 1):\n",
        "    # 각 배치별 학습\n",
        "    # for real_num in get_batches(x_train, BATCH_SIZE):\n",
        "    for real_num in x_train:  \n",
        "        # 랜덤 노이즈 생성\n",
        "        # input_noise = np.random.uniform(0, 1, size=[BATCH_SIZE, NOISE_DIM])\n",
        "        input_noise = x_test  # 노이즈가 아닌 실제 값으로 예측 시도\n",
        "        \n",
        "        # 가짜 이미지 데이터 생성\n",
        "        generated_num = generator.predict(input_noise)  # 생성자 예측\n",
        "        \n",
        "        # Gan에 학습할 X 데이터 정의\n",
        "        x_dis = np.concatenate([real_num, generated_num])\n",
        "\n",
        "        # print(x_dis.shape)\n",
        "        # print(real_num.shape)\n",
        "        # print(generated_num.shape)\n",
        "        \n",
        "        # Gan에 학습할 Y 데이터 정의\n",
        "        y_dis = np.zeros(2 * BATCH_SIZE)\n",
        "        y_dis[:BATCH_SIZE] = 0.9    # 뭐랄까 Weight값을 부여하는 거 같음(진짜에 가중치를 부여)\n",
        "\n",
        "        # print(\"/n\", y_dis, y_dis.shape)\n",
        "        \n",
        "        # Discriminator 훈련\n",
        "        discriminator.trainable = True\n",
        "        d_loss = discriminator.train_on_batch(x_dis, y_dis)  # 판별자 훈련, train_on_batch는 하나의 데이터 배치에 대해 경사 업데이트를 1회 실시\n",
        "        \n",
        "        # Gan 훈련\n",
        "        # noise = np.random.uniform(0, 1, size=[BATCH_SIZE, NOISE_DIM])\n",
        "        noise = x_test\n",
        "        y_gan = np.ones(BATCH_SIZE)  # 1을 부여함\n",
        "        \n",
        "        # Discriminator의 판별 학습을 방지합니다\n",
        "        discriminator.trainable = False\n",
        "        g_loss = gan.train_on_batch(noise, y_gan)  # GAN모델을 훈련, 판별자 훈련을 방지했기에 생성자가 훈련된다\n",
        "        \n",
        "    d_losses.append(d_loss)\n",
        "    g_losses.append(g_loss)\n",
        "    \n",
        "    if epoch == 1 or epoch % 10 == 0:\n",
        "        visualize_training(epoch, d_losses, g_losses)"
      ],
      "execution_count": null,
      "outputs": []
    },
    {
      "cell_type": "markdown",
      "metadata": {
        "id": "6kkyJqVQqpEA"
      },
      "source": [
        "1. 가짜 데이터(노이즈)를 가지고 생성자가 예측을 시도함\n",
        "2. 판별자는 생성자가 예측한 것을 모두 아닌 것(0)으로 보고 for문을 통한 데이터만을 진짜라고(0.9) 보며 학습함 ==> # Discriminator 훈련\n",
        "3. 판별자가 '생성자가 만든 데이터'를 진짜라고 판별하게(1) 하기위해 생성자가 해당 프로세스(Gan 모델)를 거치며 학습함 ==> # Gan 훈련"
      ]
    },
    {
      "cell_type": "code",
      "metadata": {
        "colab": {
          "base_uri": "https://localhost:8080/"
        },
        "id": "xRt-C5r4XQ1Z",
        "outputId": "f000497f-8b1c-43fb-c862-b57f76daa372"
      },
      "source": [
        "  y_dis = np.zeros(2 * BATCH_SIZE)\n",
        "y_dis[:BATCH_SIZE] = 0.9\n",
        "y_dis"
      ],
      "execution_count": null,
      "outputs": [
        {
          "output_type": "execute_result",
          "data": {
            "text/plain": [
              "array([0.9, 0.9, 0.9, 0.9, 0.9, 0.9, 0.9, 0.9, 0.9, 0.9, 0.9, 0.9, 0.9,\n",
              "       0.9, 0.9, 0.9, 0.9, 0.9, 0.9, 0.9, 0.9, 0.9, 0.9, 0.9, 0.9, 0.9,\n",
              "       0.9, 0.9, 0.9, 0.9, 0.9, 0.9, 0.9, 0.9, 0.9, 0.9, 0.9, 0.9, 0.9,\n",
              "       0.9, 0.9, 0.9, 0.9, 0.9, 0.9, 0.9, 0.9, 0.9, 0.9, 0.9, 0.9, 0.9,\n",
              "       0.9, 0.9, 0.9, 0.9, 0.9, 0.9, 0.9, 0.9, 0.9, 0.9, 0.9, 0.9, 0.9,\n",
              "       0.9, 0.9, 0.9, 0.9, 0.9, 0.9, 0.9, 0.9, 0.9, 0.9, 0.9, 0.9, 0.9,\n",
              "       0.9, 0.9, 0.9, 0.9, 0.9, 0.9, 0.9, 0.9, 0.9, 0.9, 0.9, 0.9, 0.9,\n",
              "       0.9, 0.9, 0.9, 0.9, 0.9, 0.9, 0.9, 0.9, 0.9, 0.9, 0.9, 0.9, 0.9,\n",
              "       0.9, 0.9, 0.9, 0.9, 0.9, 0.9, 0.9, 0.9, 0.9, 0.9, 0.9, 0.9, 0.9,\n",
              "       0.9, 0.9, 0.9, 0.9, 0.9, 0.9, 0.9, 0.9, 0.9, 0.9, 0.9, 0. , 0. ,\n",
              "       0. , 0. , 0. , 0. , 0. , 0. , 0. , 0. , 0. , 0. , 0. , 0. , 0. ,\n",
              "       0. , 0. , 0. , 0. , 0. , 0. , 0. , 0. , 0. , 0. , 0. , 0. , 0. ,\n",
              "       0. , 0. , 0. , 0. , 0. , 0. , 0. , 0. , 0. , 0. , 0. , 0. , 0. ,\n",
              "       0. , 0. , 0. , 0. , 0. , 0. , 0. , 0. , 0. , 0. , 0. , 0. , 0. ,\n",
              "       0. , 0. , 0. , 0. , 0. , 0. , 0. , 0. , 0. , 0. , 0. , 0. , 0. ,\n",
              "       0. , 0. , 0. , 0. , 0. , 0. , 0. , 0. , 0. , 0. , 0. , 0. , 0. ,\n",
              "       0. , 0. , 0. , 0. , 0. , 0. , 0. , 0. , 0. , 0. , 0. , 0. , 0. ,\n",
              "       0. , 0. , 0. , 0. , 0. , 0. , 0. , 0. , 0. , 0. , 0. , 0. , 0. ,\n",
              "       0. , 0. , 0. , 0. , 0. , 0. , 0. , 0. , 0. , 0. , 0. , 0. , 0. ,\n",
              "       0. , 0. , 0. , 0. , 0. , 0. , 0. , 0. , 0. ])"
            ]
          },
          "metadata": {},
          "execution_count": 40
        }
      ]
    },
    {
      "cell_type": "code",
      "metadata": {
        "colab": {
          "base_uri": "https://localhost:8080/"
        },
        "id": "btmzEq4SXQ4E",
        "outputId": "544aa9f7-3646-4f74-9021-3d77ce955c73"
      },
      "source": [
        "noise = np.random.uniform(-1, 1, size=[BATCH_SIZE, NOISE_DIM])\n",
        "y_gan = np.ones(BATCH_SIZE)\n",
        "y_gan"
      ],
      "execution_count": null,
      "outputs": [
        {
          "output_type": "execute_result",
          "data": {
            "text/plain": [
              "array([1., 1., 1., 1., 1., 1., 1., 1., 1., 1., 1., 1., 1., 1., 1., 1., 1.,\n",
              "       1., 1., 1., 1., 1., 1., 1., 1., 1., 1., 1., 1., 1., 1., 1., 1., 1.,\n",
              "       1., 1., 1., 1., 1., 1., 1., 1., 1., 1., 1., 1., 1., 1., 1., 1., 1.,\n",
              "       1., 1., 1., 1., 1., 1., 1., 1., 1., 1., 1., 1., 1., 1., 1., 1., 1.,\n",
              "       1., 1., 1., 1., 1., 1., 1., 1., 1., 1., 1., 1., 1., 1., 1., 1., 1.,\n",
              "       1., 1., 1., 1., 1., 1., 1., 1., 1., 1., 1., 1., 1., 1., 1., 1., 1.,\n",
              "       1., 1., 1., 1., 1., 1., 1., 1., 1., 1., 1., 1., 1., 1., 1., 1., 1.,\n",
              "       1., 1., 1., 1., 1., 1., 1., 1., 1.])"
            ]
          },
          "metadata": {},
          "execution_count": 39
        }
      ]
    },
    {
      "cell_type": "code",
      "metadata": {
        "id": "SiPg0s7-aQXl"
      },
      "source": [
        ""
      ],
      "execution_count": null,
      "outputs": []
    }
  ]
}